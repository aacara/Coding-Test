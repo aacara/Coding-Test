{
 "cells": [
  {
   "cell_type": "code",
   "execution_count": 12,
   "metadata": {},
   "outputs": [
    {
     "name": "stdout",
     "output_type": "stream",
     "text": [
      "3\n"
     ]
    }
   ],
   "source": [
    "# n = 6\n",
    "# sequence = [10, 30, 10, 20, 20, 10]\n",
    "\n",
    "n = int(input())\n",
    "sequence =list(map(int, input().split()))\n",
    "d = [1] * (n+1)\n",
    "\n",
    "\n",
    " \n",
    "for i in range(n):\n",
    "    for j in range(i):\n",
    "        if sequence[i] < sequence[j]:\n",
    "            d[i] = max(d[i], d[j] + 1)\n",
    "\n",
    "print(max(d))"
   ]
  }
 ],
 "metadata": {
  "kernelspec": {
   "display_name": "base",
   "language": "python",
   "name": "python3"
  },
  "language_info": {
   "codemirror_mode": {
    "name": "ipython",
    "version": 3
   },
   "file_extension": ".py",
   "mimetype": "text/x-python",
   "name": "python",
   "nbconvert_exporter": "python",
   "pygments_lexer": "ipython3",
   "version": "3.9.7"
  },
  "orig_nbformat": 4
 },
 "nbformat": 4,
 "nbformat_minor": 2
}
