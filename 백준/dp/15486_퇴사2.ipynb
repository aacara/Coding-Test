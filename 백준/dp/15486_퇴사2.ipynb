{
 "cells": [
  {
   "cell_type": "code",
   "execution_count": null,
   "metadata": {},
   "outputs": [],
   "source": [
    "n = int(input())\n",
    "days = [0] * (n+1)\n",
    "price = [0] * (n+1)\n",
    "d = [0] * (n+1)\n",
    "\n",
    "for i in range(n):\n",
    "    days[i+1], price[i+1] = map(int, input().split())\n",
    "    \n"
   ]
  },
  {
   "cell_type": "code",
   "execution_count": 20,
   "metadata": {},
   "outputs": [
    {
     "name": "stdout",
     "output_type": "stream",
     "text": [
      "[0, 10, 20, 10, 30, 45, 70, 200]\n",
      "45\n"
     ]
    }
   ],
   "source": [
    "n = 7\n",
    "day = [0, 3, 5, 1, 1, 2, 4, 2]\n",
    "price = [0, 10, 20, 10, 20, 15, 40, 200]\n",
    "d = [0, 10, 20, 10, 20, 15, 40, 200]\n",
    "\n",
    "\n",
    "for i in range(n):\n",
    "  for j in range(i):\n",
    "    if (i-j) >= day[j]:\n",
    "      d[i] = max(price[i], price[i] + price[j])\n",
    "  price[i] = d[i]\n",
    "print(d)\n",
    "\n",
    "maxPrice = 0\n",
    "for i in reversed(range(n)):\n",
    "  if (i+day[i] <= 7 and d[i] > maxPrice):\n",
    "    maxPrice = d[i]\n",
    "\n",
    "print(maxPrice)\n",
    "\n"
   ]
  },
  {
   "cell_type": "markdown",
   "metadata": {},
   "source": [
    "# try 1: 시간 초과"
   ]
  },
  {
   "cell_type": "code",
   "execution_count": 1,
   "metadata": {},
   "outputs": [],
   "source": [
    "import sys\n",
    "import copy\n",
    "input = sys.stdin.readline \n",
    "\n",
    "#n = 7\n",
    "#day = [0, 3, 5, 1, 1, 2, 4, 2]\n",
    "#price = [0, 10, 20, 10, 20, 15, 40, 200]\n",
    "\n",
    "\n",
    "n = int(input())\n",
    "day = [0] * (n+1)\n",
    "price = [0] * (n+1)\n",
    "\n",
    "\n",
    "for i in range(n):\n",
    "    day[i+1], price[i+1] = map(int, input().split())\n",
    "\n",
    "d = copy.deepcopy(price)\n",
    "\n",
    "for i in range(n):\n",
    "  for j in range(i):\n",
    "    if (i-j) >= day[j]:\n",
    "      d[i] = max(price[i], price[i] + price[j])\n",
    "  price[i] = d[i]\n",
    "#print(d)\n",
    "\n",
    "maxPrice = 0\n",
    "for i in reversed(range(n)):\n",
    "  if (i+day[i] <= 7 and d[i] > maxPrice):\n",
    "    maxPrice = d[i]\n",
    "\n",
    "print(maxPrice)\n",
    "\n",
    "\n",
    "\n"
   ]
  },
  {
   "cell_type": "code",
   "execution_count": 1,
   "metadata": {},
   "outputs": [],
   "source": [
    "import sys\n",
    "input = sys.stdin.readline \n",
    "\n",
    "#n = 7\n",
    "#day = [0, 3, 5, 1, 1, 2, 4, 2]\n",
    "#price = [0, 10, 20, 10, 20, 15, 40, 200]\n",
    "\n",
    "\n",
    "n = int(input())\n",
    "day = [0] * (n+1)\n",
    "price = [0] * (n+1)\n",
    "\n",
    "\n",
    "for i in range(n):\n",
    "    day[i+1], price[i+1] = map(int, input().split())\n",
    "\n",
    "d = price[:]\n",
    "\n",
    "for i in range(n):\n",
    "  for j in range(i):\n",
    "    if (i-j) >= day[j]:\n",
    "      d[i] = max(price[i], price[i] + price[j])\n",
    "  price[i] = d[i]\n",
    "#print(d)\n",
    "\n",
    "maxPrice = 0\n",
    "for i in reversed(range(n)):\n",
    "  if (i+day[i] <= 7 and d[i] > maxPrice):\n",
    "    maxPrice = d[i]\n",
    "\n",
    "print(maxPrice)\n",
    "\n",
    "\n",
    "\n"
   ]
  },
  {
   "cell_type": "code",
   "execution_count": 3,
   "metadata": {},
   "outputs": [
    {
     "name": "stdout",
     "output_type": "stream",
     "text": [
      "[0, 10, 20, 10, 30, 45, 70, 200]\n",
      "45\n"
     ]
    }
   ],
   "source": [
    "#import sys\n",
    "#input = sys.stdin.readline \n",
    "\n",
    "n = 7\n",
    "day = [0, 3, 5, 1, 1, 2, 4, 2]\n",
    "price = [0, 10, 20, 10, 20, 15, 40, 200]\n",
    "\n",
    "\n",
    "\n",
    "#for i in range(n):\n",
    "#    day[i+1], price[i+1] = map(int, input().split())\n",
    "\n",
    "d = price[:]\n",
    "\n",
    "for i in range(n):\n",
    "  for j in range(i):\n",
    "    if (i-j) >= day[j]:\n",
    "      d[i] = max(price[i], price[i] + price[j])\n",
    "  price[i] = d[i]\n",
    "print(d)\n",
    "\n",
    "maxPrice = 0\n",
    "for i in reversed(range(n)):\n",
    "  if (i+day[i] <= 7 and d[i] > maxPrice):\n",
    "    maxPrice = d[i]\n",
    "\n",
    "print(maxPrice)\n",
    "\n",
    "\n",
    "\n"
   ]
  },
  {
   "cell_type": "code",
   "execution_count": 42,
   "metadata": {},
   "outputs": [
    {
     "name": "stdout",
     "output_type": "stream",
     "text": [
      "[0, 0, 0, 0, 20, 20, 0, 0]\n"
     ]
    }
   ],
   "source": [
    "n = 7\n",
    "day = [0, 3, 5, 1, 1, 2, 4, 2]\n",
    "price = [0, 10, 20, 10, 20, 15, 40, 200]\n",
    "d = [0] * (n+1)\n",
    "\n",
    "for i in range(n+1):\n",
    "    if i+day[i] <= n and day[i+day[i]] + i+day[i] <= 7:\n",
    "      d[i + day[i]] = max(d[i + day[i]], d[i + day[i]] + price[i])\n",
    "print(d)\n",
    "\n"
   ]
  },
  {
   "cell_type": "code",
   "execution_count": 52,
   "metadata": {},
   "outputs": [
    {
     "name": "stdout",
     "output_type": "stream",
     "text": [
      "[0, 10, 20, 10, 30, 45, 40, 245]\n"
     ]
    }
   ],
   "source": [
    "n = 7\n",
    "day = [0, 3, 5, 1, 1, 2, 4, 2]\n",
    "price = [0, 10, 20, 10, 20, 15, 40, 200]\n",
    "d = price[:]\n",
    "\n",
    "for i in range(n+1):\n",
    "    if i+day[i] <= n:\n",
    "      d[i + day[i]] = max(d[i + day[i]], price[i + day[i]] + d[i])\n",
    "print(d)\n",
    "\n"
   ]
  },
  {
   "cell_type": "code",
   "execution_count": 75,
   "metadata": {},
   "outputs": [],
   "source": [
    "#n = 7\n",
    "#day = [0, 3, 5, 1, 1, 2, 4, 2]\n",
    "#price = [0, 10, 20, 10, 20, 15, 40, 200]\n",
    "#import sys\n",
    "#input = sys.stdin.readline \n",
    "\n",
    "n = int(input())\n",
    "day = [0] * (n+1)\n",
    "price = [0] * (n+1)\n",
    "\n",
    "\n",
    "for i in range(n):\n",
    "    day[i+1], price[i+1] = map(int, input().split())\n",
    "d = price[:]\n",
    "\n",
    "for i in range(1, n+1):\n",
    "    if i+day[i] <= n and day[i+day[i]] + i+day[i] <= n:\n",
    "      d[i + day[i]] = max(d[i + day[i]], price[i + day[i]] + d[i])\n",
    "      #print(f'i={i}, d={d}')\n",
    "#print(d)\n",
    "\n",
    "maxVal = 0\n",
    "for i in reversed(range(n)):\n",
    "  if day[i] + i <=n and d[day[i] + i] > maxVal and maxVal < d[i]:\n",
    "    maxVal = d[i]\n",
    "    #print(f'i={i}, maxVal = {maxVal}')\n",
    "print(maxVal)\n",
    "\n"
   ]
  },
  {
   "cell_type": "code",
   "execution_count": 7,
   "metadata": {},
   "outputs": [
    {
     "name": "stdout",
     "output_type": "stream",
     "text": [
      "[45, 45, 45, 45, 35, 15, 0, 0]\n"
     ]
    }
   ],
   "source": [
    "# n = int(input())\n",
    "# day = []\n",
    "# price = []\n",
    "dp = [0] * (n+1)\n",
    "n = 7\n",
    "day = [0, 3, 5, 1, 1, 2, 4, 2]\n",
    "price = [0, 10, 20, 10, 20, 15, 40, 200]\n",
    "\n",
    "maxVal = 0\n",
    "\n",
    "# for _ in range(n):\n",
    "#     x, y = map(int, input().split())\n",
    "#     day.append(x)\n",
    "#     price.append(y)\n",
    "\n",
    "# 리스트를 뒤에서부터 거꾸로 확인\n",
    "for i in range(n-1, -1, -1):\n",
    "    time = day[i] + i\n",
    "    # 상담이 기간 안에 끝나는 경우\n",
    "    if time <= n:\n",
    "        # 점화식에 맞게, 현재까지는 최고 이익 계산\n",
    "        dp[i] = max(price[i] + dp[time], maxVal)\n",
    "        maxVal = dp[i]\n",
    "    # 상담이 기간을 벗어나는 경우\n",
    "    else:\n",
    "        dp[i] = maxVal\n",
    "\n",
    "print(dp)\n"
   ]
  }
 ],
 "metadata": {
  "kernelspec": {
   "display_name": "base",
   "language": "python",
   "name": "python3"
  },
  "language_info": {
   "codemirror_mode": {
    "name": "ipython",
    "version": 3
   },
   "file_extension": ".py",
   "mimetype": "text/x-python",
   "name": "python",
   "nbconvert_exporter": "python",
   "pygments_lexer": "ipython3",
   "version": "3.9.7"
  },
  "orig_nbformat": 4
 },
 "nbformat": 4,
 "nbformat_minor": 2
}
