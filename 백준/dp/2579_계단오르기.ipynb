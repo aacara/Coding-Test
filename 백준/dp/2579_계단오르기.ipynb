{
 "cells": [
  {
   "cell_type": "code",
   "execution_count": 9,
   "metadata": {},
   "outputs": [
    {
     "name": "stdout",
     "output_type": "stream",
     "text": [
      "75\n"
     ]
    }
   ],
   "source": [
    "n = int(input())\n",
    "d = [0] * (n+4)\n",
    "stair = [0] * (n+4)\n",
    "\n",
    "# stair 값 입력\n",
    "for i in range(3, n+3):\n",
    "    stair[i] = int(input())\n",
    "\n",
    "\n",
    "# 총 점수의 최댓값\n",
    "for i in range(3, n+3):\n",
    "    d[i] = max(d[i-2] + stair[i], d[i-3] + stair[i-1] + stair[i])\n",
    "\n",
    "print(d[n+2])"
   ]
  }
 ],
 "metadata": {
  "kernelspec": {
   "display_name": "base",
   "language": "python",
   "name": "python3"
  },
  "language_info": {
   "codemirror_mode": {
    "name": "ipython",
    "version": 3
   },
   "file_extension": ".py",
   "mimetype": "text/x-python",
   "name": "python",
   "nbconvert_exporter": "python",
   "pygments_lexer": "ipython3",
   "version": "3.9.7"
  },
  "orig_nbformat": 4
 },
 "nbformat": 4,
 "nbformat_minor": 2
}
