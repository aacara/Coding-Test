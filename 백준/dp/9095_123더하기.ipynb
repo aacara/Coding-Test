{
 "cells": [
  {
   "cell_type": "code",
   "execution_count": 11,
   "metadata": {},
   "outputs": [
    {
     "name": "stdout",
     "output_type": "stream",
     "text": [
      "1\n"
     ]
    }
   ],
   "source": [
    "testCase = int(input())\n",
    "\n",
    "\n",
    "for _ in range(testCase):\n",
    "    n = int(input())\n",
    "    d = [0] * (12)\n",
    "    d[1] = 1\n",
    "    d[2] = 2\n",
    "    d[3] = 4\n",
    "    if (n == 1 or n == 2 or n == 3):\n",
    "        print(d[n])\n",
    "        continue\n",
    "    for i in range(4, n+1):\n",
    "        d[i] = d[i-1] + d[i-2] + d[i-3]\n",
    "    print(d[n])\n"
   ]
  }
 ],
 "metadata": {
  "kernelspec": {
   "display_name": "base",
   "language": "python",
   "name": "python3"
  },
  "language_info": {
   "codemirror_mode": {
    "name": "ipython",
    "version": 3
   },
   "file_extension": ".py",
   "mimetype": "text/x-python",
   "name": "python",
   "nbconvert_exporter": "python",
   "pygments_lexer": "ipython3",
   "version": "3.9.7"
  },
  "orig_nbformat": 4
 },
 "nbformat": 4,
 "nbformat_minor": 2
}
