{
 "cells": [
  {
   "cell_type": "code",
   "execution_count": 10,
   "metadata": {},
   "outputs": [
    {
     "ename": "SyntaxError",
     "evalue": "invalid syntax (CreatorTemp/ipykernel_20368/724300952.py, line 17)",
     "output_type": "error",
     "traceback": [
      "\u001b[1;36m  File \u001b[1;32m\"C:\\Users\\Public\\Documents\\ESTsoft\\CreatorTemp/ipykernel_20368/724300952.py\"\u001b[1;36m, line \u001b[1;32m17\u001b[0m\n\u001b[1;33m    print(f`i: {i}, j: {j}`)\u001b[0m\n\u001b[1;37m           ^\u001b[0m\n\u001b[1;31mSyntaxError\u001b[0m\u001b[1;31m:\u001b[0m invalid syntax\n"
     ]
    }
   ],
   "source": [
    "s1 = \"ACAYKP\"\n",
    "s2 = \"CAPCAK\"\n",
    "\n",
    "a = len(s1)\n",
    "b = len(s2)\n",
    "answer= \"\"\n",
    "\n",
    "# 얕은 복사 때문에 하나의 원소를 바꾸면 모두 바뀜\n",
    "# d = [[0] * (lenS1)]* (lenS2)\n",
    "# d = [[0 for j in range(col)] for i in range(row)]\n",
    "d = [[0 for j in range(b+1)] for i in range(a+1)]\n",
    "\n",
    "for i in range(a):\n",
    "    for j in range(b):\n",
    "        if s1[i] == s2[j]:\n",
    "            d[i][j] = d[i-1][j-1] + 1\n",
    "            print(f`i: {i}, j: {j}`)\n",
    "            answer += s1[i]\n",
    "        else:\n",
    "            d[i][j] = max(d[i-1][j], d[i][j-1])\n",
    "print(d[a-1][b-1])\n",
    "print(answer)\n",
    "\n",
    "\n",
    "        "
   ]
  },
  {
   "cell_type": "code",
   "execution_count": null,
   "metadata": {},
   "outputs": [],
   "source": []
  }
 ],
 "metadata": {
  "kernelspec": {
   "display_name": "base",
   "language": "python",
   "name": "python3"
  },
  "language_info": {
   "codemirror_mode": {
    "name": "ipython",
    "version": 3
   },
   "file_extension": ".py",
   "mimetype": "text/x-python",
   "name": "python",
   "nbconvert_exporter": "python",
   "pygments_lexer": "ipython3",
   "version": "3.9.7"
  },
  "orig_nbformat": 4
 },
 "nbformat": 4,
 "nbformat_minor": 2
}
