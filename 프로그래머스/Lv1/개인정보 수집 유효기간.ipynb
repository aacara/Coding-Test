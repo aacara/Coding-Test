{
 "cells": [
  {
   "attachments": {},
   "cell_type": "markdown",
   "metadata": {},
   "source": [
    "# 1st try: 실패\n",
    "- 실패 원인: ***`유효기간`은 개인정보를 보관할 수 있는 달 수를 나타내는 정수이며, 1 이상 100 이하입니다.***   \n",
    "조건을 제대로 보지 않음.\n",
    "- 해결: 12개월을 넘었을 때만 생각하지 않고 그 이상일 수도 있다는 점을 유의\n",
    "```python\n",
    "if month > 12:\n",
    "            month -= 12\n",
    "            year += 1\n",
    "``` \n",
    "부분 수정 필요\n"
   ]
  },
  {
   "cell_type": "code",
   "execution_count": 1,
   "metadata": {},
   "outputs": [],
   "source": [
    "def solution(today, terms, privacies):\n",
    "    answer = []\n",
    "    termDict = {}\n",
    "    expires = []\n",
    "    \n",
    "    yearToday, monthToday, dateToday = map(int, today.split(\".\"))\n",
    "    \n",
    "    for term in terms:\n",
    "        termType, termMonth = term.split(\" \")\n",
    "        termDict[termType] = int(termMonth)\n",
    "        \n",
    "    for privacy in privacies:\n",
    "        privacyDate, privacyType = privacy.split(\" \")\n",
    "        year, month, date = map(int, privacyDate.split(\".\"))\n",
    "        month += termDict[privacyType]\n",
    "        if month > 12:\n",
    "            month -= 12\n",
    "            year += 1\n",
    "        expires.append([year, month, date]) \n",
    "    print(f'yearToday: {yearToday}, monthToday: {monthToday}, dateToday: {dateToday}')\n",
    "    print(f'expires: {expires}')\n",
    "        \n",
    "    for i, expire in enumerate(expires):\n",
    "        if expire[0] < yearToday:\n",
    "            answer.append(i+1)\n",
    "        elif expire[0] == yearToday:\n",
    "            if expire[1] < monthToday:\n",
    "                answer.append(i+1)\n",
    "            elif expire[1] == monthToday:\n",
    "                if expire[2] <= dateToday:\n",
    "                    answer.append(i+1)\n",
    "    \n",
    "    return answer"
   ]
  },
  {
   "cell_type": "code",
   "execution_count": 2,
   "metadata": {},
   "outputs": [
    {
     "name": "stdout",
     "output_type": "stream",
     "text": [
      "yearToday: 2022, monthToday: 5, dateToday: 19\n",
      "expires: [[2021, 11, 2], [2022, 7, 1], [2022, 5, 19], [2022, 5, 20]]\n"
     ]
    },
    {
     "data": {
      "text/plain": [
       "[1, 3]"
      ]
     },
     "execution_count": 2,
     "metadata": {},
     "output_type": "execute_result"
    }
   ],
   "source": [
    "solution(\"2022.05.19\", [\"A 6\", \"B 12\", \"C 3\"], [\"2021.05.02 A\", \"2021.07.01 B\", \"2022.02.19 C\", \"2022.02.20 C\"])"
   ]
  },
  {
   "cell_type": "code",
   "execution_count": 3,
   "metadata": {},
   "outputs": [
    {
     "name": "stdout",
     "output_type": "stream",
     "text": [
      "yearToday: 2020, monthToday: 1, dateToday: 1\n",
      "expires: [[2019, 6, 1], [2020, 2, 15], [2020, 1, 2], [2019, 12, 1], [2019, 3, 28]]\n"
     ]
    },
    {
     "data": {
      "text/plain": [
       "[1, 4, 5]"
      ]
     },
     "execution_count": 3,
     "metadata": {},
     "output_type": "execute_result"
    }
   ],
   "source": [
    "solution(\"2020.01.01\", [\"Z 3\", \"D 5\"], [\"2019.01.01 D\", \"2019.11.15 Z\", \"2019.08.02 D\", \"2019.07.01 D\", \"2018.12.28 Z\"])"
   ]
  },
  {
   "attachments": {},
   "cell_type": "markdown",
   "metadata": {},
   "source": [
    "# 2nd try: 실패\n",
    "- 실패 원인:\n",
    "```python\n",
    "if month > 12:\n",
    "            month -= (month // 12) * 12\n",
    "            year += month // 12\n",
    "```\n",
    "를 수정했지만, 다른 조건***모든 달은 `28일`까지 있다고 가정합니다.***을 신경쓰지 않음\n",
    "- 해결: 날짜도 변경될 여지가 있으므로 나의 로직 자체를 전면 수정\n"
   ]
  },
  {
   "cell_type": "code",
   "execution_count": 4,
   "metadata": {},
   "outputs": [],
   "source": [
    "def solution(today, terms, privacies):\n",
    "    answer = []\n",
    "    termDict = {}\n",
    "    expires = []\n",
    "    \n",
    "    yearToday, monthToday, dateToday = map(int, today.split(\".\"))\n",
    "    \n",
    "    for term in terms:\n",
    "        termType, termMonth = term.split(\" \")\n",
    "        termDict[termType] = int(termMonth)\n",
    "        \n",
    "    for privacy in privacies:\n",
    "        privacyDate, privacyType = privacy.split(\" \")\n",
    "        year, month, date = map(int, privacyDate.split(\".\"))\n",
    "        month += termDict[privacyType]\n",
    "        if month > 12:\n",
    "            month -= (month // 12) * 12\n",
    "            year += month // 12\n",
    "        expires.append([year, month, date]) \n",
    "    print(f'yearToday: {yearToday}, monthToday: {monthToday}, dateToday: {dateToday}')\n",
    "    print(f'expires: {expires}')\n",
    "        \n",
    "    for i, expire in enumerate(expires):\n",
    "        if expire[0] < yearToday:\n",
    "            answer.append(i+1)\n",
    "        elif expire[0] == yearToday:\n",
    "            if expire[1] < monthToday:\n",
    "                answer.append(i+1)\n",
    "            elif expire[1] == monthToday:\n",
    "                if expire[2] <= dateToday:\n",
    "                    answer.append(i+1)\n",
    "    \n",
    "    return answer"
   ]
  },
  {
   "cell_type": "code",
   "execution_count": 5,
   "metadata": {},
   "outputs": [
    {
     "name": "stdout",
     "output_type": "stream",
     "text": [
      "yearToday: 2022, monthToday: 5, dateToday: 19\n",
      "expires: [[2021, 11, 2], [2021, 7, 1], [2022, 5, 19], [2022, 5, 20]]\n"
     ]
    },
    {
     "data": {
      "text/plain": [
       "[1, 2, 3]"
      ]
     },
     "execution_count": 5,
     "metadata": {},
     "output_type": "execute_result"
    }
   ],
   "source": [
    "solution(\"2022.05.19\", [\"A 6\", \"B 12\", \"C 3\"], [\"2021.05.02 A\", \"2021.07.01 B\", \"2022.02.19 C\", \"2022.02.20 C\"])"
   ]
  },
  {
   "cell_type": "code",
   "execution_count": 6,
   "metadata": {},
   "outputs": [
    {
     "name": "stdout",
     "output_type": "stream",
     "text": [
      "yearToday: 2020, monthToday: 1, dateToday: 1\n",
      "expires: [[2019, 6, 1], [2019, 2, 15], [2019, 1, 2], [2019, 12, 1], [2018, 3, 28]]\n"
     ]
    },
    {
     "data": {
      "text/plain": [
       "[1, 2, 3, 4, 5]"
      ]
     },
     "execution_count": 6,
     "metadata": {},
     "output_type": "execute_result"
    }
   ],
   "source": [
    "solution(\"2020.01.01\", [\"Z 3\", \"D 5\"], [\"2019.01.01 D\", \"2019.11.15 Z\", \"2019.08.02 D\", \"2019.07.01 D\", \"2018.12.28 Z\"])"
   ]
  },
  {
   "attachments": {},
   "cell_type": "markdown",
   "metadata": {},
   "source": [
    "# 3rd try: 실패\n",
    "- 실패 원인: 하루 빼주는 부분을 expiration date를 모두 구한 후 마지막에 확인하면 1일에서 28로 넘어가는 부분을 담지 못한다.\n",
    "- 해결: expiration date를 구해주는 부분에서 `오버플로우` 모두 체크해주자\n",
    "```python\n",
    "        yearPass = month // 12\n",
    "        month -= yearPass * 12\n",
    "        year += yearPass\n",
    "        # 하루 빼주기\n",
    "        if date != 1:\n",
    "            date -= 1\n",
    "        else:\n",
    "            date = 28\n",
    "            if month != 1:\n",
    "                month -= 1\n",
    "            else:\n",
    "                month = 12\n",
    "                year -= 1\n",
    "```"
   ]
  },
  {
   "cell_type": "code",
   "execution_count": 7,
   "metadata": {},
   "outputs": [],
   "source": [
    "def solution(today, terms, privacies):\n",
    "    answer = []\n",
    "    termDict = {}\n",
    "    expires = []\n",
    "    \n",
    "    yearToday, monthToday, dateToday = map(int, today.split(\".\"))\n",
    "    \n",
    "    for term in terms:\n",
    "        termType, termMonth = term.split(\" \")\n",
    "        termDict[termType] = int(termMonth)\n",
    "        \n",
    "    for privacy in privacies:\n",
    "        privacyDate, privacyType = privacy.split(\" \")\n",
    "        year, month, date = map(int, privacyDate.split(\".\"))\n",
    "        month += termDict[privacyType]\n",
    "        \n",
    "        yearPass = month // 12\n",
    "        month -= yearPass * 12\n",
    "        year += yearPass\n",
    "        # 하루 빼주기\n",
    "        if date != 1:\n",
    "            date -= 1\n",
    "        else:\n",
    "            date = 28\n",
    "            if month != 1:\n",
    "                month -= 1\n",
    "            else:\n",
    "                month = 12\n",
    "                year -= 1\n",
    "        expires.append([year, month, date]) \n",
    "    # print(f'yearToday: {yearToday}, monthToday: {monthToday}, dateToday: {dateToday}')\n",
    "    # print(f'expires: {expires}')\n",
    "        \n",
    "    for i, expire in enumerate(expires):\n",
    "        if expire[0] < yearToday:\n",
    "            answer.append(i+1)\n",
    "        elif expire[0] == yearToday:\n",
    "            if expire[1] < monthToday:\n",
    "                answer.append(i+1)\n",
    "            elif expire[1] == monthToday:\n",
    "                if expire[2] < dateToday:\n",
    "                    answer.append(i+1)\n",
    "    \n",
    "    return answer"
   ]
  },
  {
   "cell_type": "code",
   "execution_count": 8,
   "metadata": {},
   "outputs": [
    {
     "data": {
      "text/plain": [
       "[1, 3]"
      ]
     },
     "execution_count": 8,
     "metadata": {},
     "output_type": "execute_result"
    }
   ],
   "source": [
    "solution(\"2022.05.19\", [\"A 6\", \"B 12\", \"C 3\"], [\"2021.05.02 A\", \"2021.07.01 B\", \"2022.02.19 C\", \"2022.02.20 C\"])"
   ]
  },
  {
   "cell_type": "code",
   "execution_count": 9,
   "metadata": {},
   "outputs": [
    {
     "data": {
      "text/plain": [
       "[1, 4, 5]"
      ]
     },
     "execution_count": 9,
     "metadata": {},
     "output_type": "execute_result"
    }
   ],
   "source": [
    "solution(\"2020.01.01\", [\"Z 3\", \"D 5\"], [\"2019.01.01 D\", \"2019.11.15 Z\", \"2019.08.02 D\", \"2019.07.01 D\", \"2018.12.28 Z\"])"
   ]
  },
  {
   "attachments": {},
   "cell_type": "markdown",
   "metadata": {},
   "source": [
    "# 4th try: 성공\n",
    "- 실패 원인: \n",
    "```python\n",
    "        yearPass = month // 12\n",
    "        month -= yearPass * 12\n",
    "        year += yearPass\n",
    "```\n",
    "        부분에서 month가 12, 24일 경우 성립하지 않음\n",
    "- 해결: \n",
    "```python\n",
    "        if month % 12 != 0:\n",
    "            yearPass = month // 12\n",
    "            month -= yearPass * 12\n",
    "            year += yearPass\n",
    "        else:\n",
    "            yearPass = month // 12\n",
    "            month -= (yearPass-1)* 12\n",
    "            year += (yearPass-1)\n",
    "```"
   ]
  },
  {
   "cell_type": "code",
   "execution_count": 10,
   "metadata": {},
   "outputs": [],
   "source": [
    "def solution(today, terms, privacies):\n",
    "    answer = []\n",
    "    termDict = {}\n",
    "    expires = []\n",
    "    \n",
    "    yearToday, monthToday, dateToday = map(int, today.split(\".\"))\n",
    "    \n",
    "    for term in terms:\n",
    "        termType, termMonth = term.split(\" \")\n",
    "        termDict[termType] = int(termMonth)\n",
    "        \n",
    "    for privacy in privacies:\n",
    "        privacyDate, privacyType = privacy.split(\" \")\n",
    "        year, month, date = map(int, privacyDate.split(\".\"))\n",
    "        month += termDict[privacyType]\n",
    "        if month % 12 != 0:\n",
    "            yearPass = month // 12\n",
    "            month -= yearPass * 12\n",
    "            year += yearPass\n",
    "        else:\n",
    "            yearPass = month // 12\n",
    "            month -= (yearPass-1)* 12\n",
    "            year += (yearPass-1)\n",
    "        # 하루 빼주기\n",
    "        if date != 1:\n",
    "            date -= 1\n",
    "        else:\n",
    "            date = 28\n",
    "            if month != 1:\n",
    "                month -= 1\n",
    "            else:\n",
    "                month = 12\n",
    "                year -= 1\n",
    "        expires.append([year, month, date]) \n",
    "    # print(f'yearToday: {yearToday}, monthToday: {monthToday}, dateToday: {dateToday}')\n",
    "    # print(f'expires: {expires}')\n",
    "        \n",
    "    for i, expire in enumerate(expires):\n",
    "        if expire[0] < yearToday:\n",
    "            answer.append(i+1)\n",
    "        elif expire[0] == yearToday:\n",
    "            if expire[1] < monthToday:\n",
    "                answer.append(i+1)\n",
    "            elif expire[1] == monthToday:\n",
    "                if expire[2] < dateToday:\n",
    "                    answer.append(i+1)\n",
    "    \n",
    "    return answer"
   ]
  },
  {
   "cell_type": "code",
   "execution_count": 11,
   "metadata": {},
   "outputs": [
    {
     "data": {
      "text/plain": [
       "[1, 3]"
      ]
     },
     "execution_count": 11,
     "metadata": {},
     "output_type": "execute_result"
    }
   ],
   "source": [
    "solution(\"2022.05.19\", [\"A 6\", \"B 12\", \"C 3\"], [\"2021.05.02 A\", \"2021.07.01 B\", \"2022.02.19 C\", \"2022.02.20 C\"])"
   ]
  },
  {
   "cell_type": "code",
   "execution_count": 12,
   "metadata": {},
   "outputs": [
    {
     "data": {
      "text/plain": [
       "[1, 4, 5]"
      ]
     },
     "execution_count": 12,
     "metadata": {},
     "output_type": "execute_result"
    }
   ],
   "source": [
    "solution(\"2020.01.01\", [\"Z 3\", \"D 5\"], [\"2019.01.01 D\", \"2019.11.15 Z\", \"2019.08.02 D\", \"2019.07.01 D\", \"2018.12.28 Z\"])"
   ]
  },
  {
   "attachments": {},
   "cell_type": "markdown",
   "metadata": {},
   "source": [
    "- 회고    \n",
    "  1.test case만 보지 말고 문제를 꼼꼼하게 읽자.   \n",
    "  2. `오버플로우` 발생하는 경우에 대해 모든 경우를 생각하다보면 빼먹는 부분이 생길 가능성이 높다.   \n",
    "  -> 하나의 단위로 통합해서 하나의 기준으로 생각한 후, 단위 변환을 한다면 실수할 부분이 적어질 것 같다.   \n",
    "  -> 접근 방법을 바꿔보자.\n",
    "  # 5th try: 더 좋은 풀이 방법 성공"
   ]
  },
  {
   "cell_type": "code",
   "execution_count": 13,
   "metadata": {},
   "outputs": [],
   "source": [
    "def solution(today, terms, privacies):\n",
    "    answer = []\n",
    "    termDict = {}\n",
    "    expires = []\n",
    "    \n",
    "    yearToday, monthToday, dateToday = map(int, today.split(\".\"))\n",
    "    # 기준을 일자수로 둠\n",
    "    dateToday += (monthToday*28 + yearToday*28*12)\n",
    "    \n",
    "    for term in terms:\n",
    "        termType, termMonth = term.split(\" \")\n",
    "        termDict[termType] = int(termMonth)\n",
    "        \n",
    "    for privacy in privacies:\n",
    "        privacyDate, privacyType = privacy.split(\" \")\n",
    "        year, month, date = map(int, privacyDate.split(\".\"))\n",
    "        month += termDict[privacyType]\n",
    "        date += (month*28 + year*28*12)\n",
    "        date -= 1\n",
    "        expires.append(date)\n",
    "\n",
    "    for i, expire in enumerate(expires):\n",
    "        # 지나온 총 날의 수만 비교하면 되므로 편리\n",
    "        if expire < dateToday:\n",
    "            answer.append(i+1)\n",
    "\n",
    "    return answer"
   ]
  },
  {
   "cell_type": "code",
   "execution_count": 14,
   "metadata": {},
   "outputs": [
    {
     "data": {
      "text/plain": [
       "[1, 3]"
      ]
     },
     "execution_count": 14,
     "metadata": {},
     "output_type": "execute_result"
    }
   ],
   "source": [
    "solution(\"2022.05.19\", [\"A 6\", \"B 12\", \"C 3\"], [\"2021.05.02 A\", \"2021.07.01 B\", \"2022.02.19 C\", \"2022.02.20 C\"])"
   ]
  },
  {
   "cell_type": "code",
   "execution_count": 15,
   "metadata": {},
   "outputs": [
    {
     "data": {
      "text/plain": [
       "[1, 4, 5]"
      ]
     },
     "execution_count": 15,
     "metadata": {},
     "output_type": "execute_result"
    }
   ],
   "source": [
    "solution(\"2020.01.01\", [\"Z 3\", \"D 5\"], [\"2019.01.01 D\", \"2019.11.15 Z\", \"2019.08.02 D\", \"2019.07.01 D\", \"2018.12.28 Z\"])"
   ]
  },
  {
   "attachments": {},
   "cell_type": "markdown",
   "metadata": {},
   "source": [
    "- 오버플로우 조건을 고려하지 않고 총 date의 수만 비교해주면 되므로 훨씬 코드 짜기에도 편리하고 경우의 수를 나눌 필요성이 없어진다!\n",
    "- 앞으로 이렇게 접근하자!"
   ]
  }
 ],
 "metadata": {
  "kernelspec": {
   "display_name": "base",
   "language": "python",
   "name": "python3"
  },
  "language_info": {
   "codemirror_mode": {
    "name": "ipython",
    "version": 3
   },
   "file_extension": ".py",
   "mimetype": "text/x-python",
   "name": "python",
   "nbconvert_exporter": "python",
   "pygments_lexer": "ipython3",
   "version": "3.9.7"
  },
  "orig_nbformat": 4
 },
 "nbformat": 4,
 "nbformat_minor": 2
}
