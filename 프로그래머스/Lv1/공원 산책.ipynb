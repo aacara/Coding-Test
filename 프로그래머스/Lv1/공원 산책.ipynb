{
 "cells": [
  {
   "cell_type": "code",
   "execution_count": 26,
   "metadata": {},
   "outputs": [],
   "source": [
    "def solution(park, routes):\n",
    "    answer = []\n",
    "    i, j = startingPoint(park)\n",
    "    i, j = move(park, routes, i, j)\n",
    "    answer = [i,j]\n",
    "    \n",
    "    return answer\n",
    "\n",
    "\n",
    "def startingPoint(park):\n",
    "    for i, row in enumerate(park):\n",
    "        if \"S\" in row:\n",
    "            startingRow = row\n",
    "            x = i\n",
    "            break\n",
    "    for j, col in enumerate(startingRow):\n",
    "        count = 0\n",
    "        if col == \"S\":\n",
    "            y = j\n",
    "        count += 1\n",
    "    return x, y\n",
    "\n",
    "def move(park, routes, i, j):\n",
    "    for route in routes:\n",
    "        direction, steps = route.split(\" \")\n",
    "        steps = int(steps)\n",
    "        obstacle = check(park, direction, route, i, j)\n",
    "        if obstacle == False:\n",
    "            if direction == \"E\":\n",
    "                j += steps\n",
    "            elif direction == \"S\":\n",
    "                i += steps\n",
    "            elif direction == \"W\":\n",
    "                j -= steps\n",
    "            else: # direction == \"N\"\n",
    "                i -= steps\n",
    "    return i, j\n",
    "            \n",
    "def check(park, direction, route, i, j):\n",
    "    direction, steps = route.split(\" \")\n",
    "    steps = int(steps)\n",
    "    row, col = len(park), len(park[0])\n",
    "    obstacle = False\n",
    "    \n",
    "    for step in range(1, steps+1):\n",
    "        if direction == \"E\":\n",
    "            if j+step >= col or park[i][j+step] == \"X\":\n",
    "                obstacle = True\n",
    "                break\n",
    "        elif direction == \"S\":\n",
    "            if i+step >= row or park[i+step][j] == \"X\":\n",
    "                obstacle = True\n",
    "                break\n",
    "        elif direction == \"W\":\n",
    "            if j-step < 0 or park[i][j-step] == \"X\":\n",
    "                obstacle = True\n",
    "                break\n",
    "        else: # direction == \"N\"\n",
    "            if i-step < 0 or park[i-step][j] == \"X\":\n",
    "                obstacle = True\n",
    "                break\n",
    "    return obstacle"
   ]
  },
  {
   "cell_type": "code",
   "execution_count": 27,
   "metadata": {},
   "outputs": [
    {
     "data": {
      "text/plain": [
       "[2, 1]"
      ]
     },
     "execution_count": 27,
     "metadata": {},
     "output_type": "execute_result"
    }
   ],
   "source": [
    "solution([\"SOO\",\"OOO\",\"OOO\"], [\"E 2\",\"S 2\",\"W 1\"])"
   ]
  },
  {
   "cell_type": "code",
   "execution_count": 28,
   "metadata": {},
   "outputs": [
    {
     "data": {
      "text/plain": [
       "[0, 1]"
      ]
     },
     "execution_count": 28,
     "metadata": {},
     "output_type": "execute_result"
    }
   ],
   "source": [
    "solution([\"SOO\",\"OXX\",\"OOO\"], [\"E 2\",\"S 2\",\"W 1\"])"
   ]
  },
  {
   "cell_type": "code",
   "execution_count": 29,
   "metadata": {},
   "outputs": [
    {
     "data": {
      "text/plain": [
       "[0, 0]"
      ]
     },
     "execution_count": 29,
     "metadata": {},
     "output_type": "execute_result"
    }
   ],
   "source": [
    "solution([\"OSO\",\"OOO\",\"OXO\",\"OOO\"], [\"E 2\",\"S 3\",\"W 1\"])"
   ]
  }
 ],
 "metadata": {
  "kernelspec": {
   "display_name": "base",
   "language": "python",
   "name": "python3"
  },
  "language_info": {
   "codemirror_mode": {
    "name": "ipython",
    "version": 3
   },
   "file_extension": ".py",
   "mimetype": "text/x-python",
   "name": "python",
   "nbconvert_exporter": "python",
   "pygments_lexer": "ipython3",
   "version": "3.9.7"
  },
  "orig_nbformat": 4
 },
 "nbformat": 4,
 "nbformat_minor": 2
}
