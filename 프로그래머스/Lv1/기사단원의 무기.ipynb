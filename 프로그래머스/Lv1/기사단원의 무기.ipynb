{
 "cells": [
  {
   "attachments": {},
   "cell_type": "markdown",
   "metadata": {},
   "source": [
    "# 1st try: 시간 초과\n",
    "- 문제 원인: 약수를 구하는 과정에서 numbers까지의 모든 수를 확인하므로 $O(n)$ 시간 복잡도를 가진다.\n",
    "- 문제 해결: 모든 경우의 수를 탐색하지 않는 방법을 생각해보자"
   ]
  },
  {
   "cell_type": "code",
   "execution_count": 1,
   "metadata": {},
   "outputs": [],
   "source": [
    "def solution(numbers, limit, power):\n",
    "    answer = 0\n",
    "    divisorList = []\n",
    "    \n",
    "    for number in range(1, numbers+1):\n",
    "        count = 0\n",
    "        for divisor in range(1, number+1):\n",
    "            if number % divisor == 0:\n",
    "                count += 1\n",
    "        divisorList.append(count)\n",
    "        \n",
    "    for divisorNum in divisorList:\n",
    "        if divisorNum <= limit:\n",
    "            answer += divisorNum\n",
    "        else:\n",
    "            answer += power\n",
    "            \n",
    "    return answer"
   ]
  },
  {
   "cell_type": "code",
   "execution_count": 2,
   "metadata": {},
   "outputs": [
    {
     "data": {
      "text/plain": [
       "10"
      ]
     },
     "execution_count": 2,
     "metadata": {},
     "output_type": "execute_result"
    }
   ],
   "source": [
    "solution(5,3,2)"
   ]
  },
  {
   "cell_type": "code",
   "execution_count": 3,
   "metadata": {},
   "outputs": [
    {
     "data": {
      "text/plain": [
       "21"
      ]
     },
     "execution_count": 3,
     "metadata": {},
     "output_type": "execute_result"
    }
   ],
   "source": [
    "solution(10,3,2)"
   ]
  },
  {
   "attachments": {},
   "cell_type": "markdown",
   "metadata": {},
   "source": [
    "- 소수로 나눈 후 인수의 제곱수+1을 한 값을 모두 구한 후 곱하는 접근 방식을 생각해봤다.   \n",
    "예를 들어, 8의 경우 2^3이므로 (3+1) = 4이고, 12의 경우 2^2*3이므로 (2+1)(1+1)=6이다.   \n",
    "\n",
    "- 하지만, 이 방법은 소수의 경우, 인수가 자기 자신과 1 뿐이므로 모든 수를 탐색해야하는 문제가 생기므로 적합하지 않다고 판단했다.\n",
    "- 인터넷에 나와있는 다른 코드를 참고해 $O(\\sqrt{n})$ 시간 안에 푸는 방법을 알게 되었다.\n"
   ]
  },
  {
   "cell_type": "code",
   "execution_count": 4,
   "metadata": {},
   "outputs": [],
   "source": [
    "import math\n",
    "\n",
    "def solution(numbers, limit, power):\n",
    "    answer = 0\n",
    "    divisorList = []\n",
    "    \n",
    "    for number in range(1, numbers+1):\n",
    "        count = 0\n",
    "        for i in range(1, int(math.sqrt(number))+1):\n",
    "            if number % i == 0:\n",
    "                count += 1\n",
    "                if i != number // i:\n",
    "                    count += 1\n",
    "        divisorList.append(count)\n",
    "        \n",
    "    for divisorNum in divisorList:\n",
    "        if divisorNum <= limit:\n",
    "            answer += divisorNum\n",
    "        else:\n",
    "            answer += power\n",
    "            \n",
    "    return answer"
   ]
  },
  {
   "cell_type": "code",
   "execution_count": 5,
   "metadata": {},
   "outputs": [
    {
     "data": {
      "text/plain": [
       "10"
      ]
     },
     "execution_count": 5,
     "metadata": {},
     "output_type": "execute_result"
    }
   ],
   "source": [
    "solution(5,3,2)"
   ]
  },
  {
   "cell_type": "code",
   "execution_count": 6,
   "metadata": {},
   "outputs": [
    {
     "data": {
      "text/plain": [
       "21"
      ]
     },
     "execution_count": 6,
     "metadata": {},
     "output_type": "execute_result"
    }
   ],
   "source": [
    "solution(10,3,2)"
   ]
  }
 ],
 "metadata": {
  "kernelspec": {
   "display_name": "base",
   "language": "python",
   "name": "python3"
  },
  "language_info": {
   "codemirror_mode": {
    "name": "ipython",
    "version": 3
   },
   "file_extension": ".py",
   "mimetype": "text/x-python",
   "name": "python",
   "nbconvert_exporter": "python",
   "pygments_lexer": "ipython3",
   "version": "3.9.7"
  },
  "orig_nbformat": 4
 },
 "nbformat": 4,
 "nbformat_minor": 2
}
