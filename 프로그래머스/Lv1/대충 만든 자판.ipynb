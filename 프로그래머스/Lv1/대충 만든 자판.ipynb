{
 "cells": [
  {
   "cell_type": "code",
   "execution_count": 1,
   "metadata": {},
   "outputs": [],
   "source": [
    "def solution(keymap, targets):\n",
    "    answer = []\n",
    "    alphaDict = makeDict(keymap)\n",
    "    for target in targets:\n",
    "        result = 0\n",
    "        for t in target:\n",
    "            if t in alphaDict:\n",
    "                result += alphaDict[t]\n",
    "            else:\n",
    "                result = -1\n",
    "                break\n",
    "        answer.append(result)            \n",
    "    return answer\n",
    "\n",
    "def makeDict(keymap):\n",
    "    alphaDict = {}\n",
    "    for key in keymap:\n",
    "        for i, k in enumerate(key):\n",
    "            # 이미 딕셔너리에 존재하지 않는다면\n",
    "            if k not in alphaDict:\n",
    "                alphaDict[k] = i+1\n",
    "            # 딕셔너리에 존재한다면 값이 더 작을 때만 바꿈\n",
    "            else:\n",
    "                val = alphaDict.get(k)\n",
    "                if i+1 < val:\n",
    "                    alphaDict[k] = i+1\n",
    "    return alphaDict"
   ]
  },
  {
   "cell_type": "code",
   "execution_count": 2,
   "metadata": {},
   "outputs": [
    {
     "data": {
      "text/plain": [
       "[9, 4]"
      ]
     },
     "execution_count": 2,
     "metadata": {},
     "output_type": "execute_result"
    }
   ],
   "source": [
    "solution([\"ABACD\", \"BCEFD\"], [\"ABCD\",\"AABB\"])"
   ]
  },
  {
   "cell_type": "code",
   "execution_count": 3,
   "metadata": {},
   "outputs": [
    {
     "data": {
      "text/plain": [
       "[-1]"
      ]
     },
     "execution_count": 3,
     "metadata": {},
     "output_type": "execute_result"
    }
   ],
   "source": [
    "solution([\"AA\"], [\"B\"])"
   ]
  },
  {
   "cell_type": "code",
   "execution_count": 4,
   "metadata": {},
   "outputs": [
    {
     "data": {
      "text/plain": [
       "[4, 6]"
      ]
     },
     "execution_count": 4,
     "metadata": {},
     "output_type": "execute_result"
    }
   ],
   "source": [
    "solution([\"AGZ\", \"BSSS\"], [\"ASA\",\"BGZ\"])"
   ]
  },
  {
   "attachments": {},
   "cell_type": "markdown",
   "metadata": {},
   "source": [
    "- if문을 하나라도 줄여보자\n",
    "- if i+1 < val:   \n",
    "     alphaDict[k] = i+1\n",
    "- -> alphaDict[k] = min(i+1, val)"
   ]
  },
  {
   "cell_type": "code",
   "execution_count": 5,
   "metadata": {},
   "outputs": [],
   "source": [
    "def solution(keymap, targets):\n",
    "    answer = []\n",
    "    alphaDict = makeDict(keymap)\n",
    "    for target in targets:\n",
    "        result = 0\n",
    "        for t in target:\n",
    "            if t in alphaDict:\n",
    "                result += alphaDict[t]\n",
    "            else:\n",
    "                result = -1\n",
    "                break\n",
    "        answer.append(result)            \n",
    "    return answer\n",
    "\n",
    "def makeDict(keymap):\n",
    "    alphaDict = {}\n",
    "    for key in keymap:\n",
    "        for i, k in enumerate(key):\n",
    "            # 이미 딕셔너리에 존재하지 않는다면\n",
    "            if k not in alphaDict:\n",
    "                alphaDict[k] = i+1\n",
    "            # 딕셔너리에 존재한다면 값이 더 작을 때만 바꿈\n",
    "            else:\n",
    "                val = alphaDict.get(k)\n",
    "                # 수정한 부분\n",
    "                alphaDict[k] = min(i+1, val)\n",
    "    return alphaDict"
   ]
  },
  {
   "cell_type": "code",
   "execution_count": 6,
   "metadata": {},
   "outputs": [
    {
     "data": {
      "text/plain": [
       "[9, 4]"
      ]
     },
     "execution_count": 6,
     "metadata": {},
     "output_type": "execute_result"
    }
   ],
   "source": [
    "solution([\"ABACD\", \"BCEFD\"], [\"ABCD\",\"AABB\"])"
   ]
  },
  {
   "cell_type": "code",
   "execution_count": 7,
   "metadata": {},
   "outputs": [
    {
     "data": {
      "text/plain": [
       "[-1]"
      ]
     },
     "execution_count": 7,
     "metadata": {},
     "output_type": "execute_result"
    }
   ],
   "source": [
    "solution([\"AA\"], [\"B\"])"
   ]
  },
  {
   "cell_type": "code",
   "execution_count": 8,
   "metadata": {},
   "outputs": [
    {
     "data": {
      "text/plain": [
       "[4, 6]"
      ]
     },
     "execution_count": 8,
     "metadata": {},
     "output_type": "execute_result"
    }
   ],
   "source": [
    "solution([\"AGZ\", \"BSSS\"], [\"ASA\",\"BGZ\"])"
   ]
  }
 ],
 "metadata": {
  "kernelspec": {
   "display_name": "base",
   "language": "python",
   "name": "python3"
  },
  "language_info": {
   "codemirror_mode": {
    "name": "ipython",
    "version": 3
   },
   "file_extension": ".py",
   "mimetype": "text/x-python",
   "name": "python",
   "nbconvert_exporter": "python",
   "pygments_lexer": "ipython3",
   "version": "3.9.7"
  },
  "orig_nbformat": 4
 },
 "nbformat": 4,
 "nbformat_minor": 2
}
