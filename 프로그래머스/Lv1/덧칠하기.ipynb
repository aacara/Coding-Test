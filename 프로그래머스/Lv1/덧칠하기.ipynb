{
 "cells": [
  {
   "attachments": {},
   "cell_type": "markdown",
   "metadata": {},
   "source": [
    "# 1st try: 시간 초과 : 94점"
   ]
  },
  {
   "cell_type": "code",
   "execution_count": 2,
   "metadata": {},
   "outputs": [],
   "source": [
    "def solution(n, m, section):\n",
    "    paint = 1\n",
    "    startingPoint = section[-1]\n",
    "    while startingPoint - m >= section[0]:\n",
    "        # 나머지 페인트칠해야 하는 section의 원소값들 중 최댓값\n",
    "        for s in section[::-1]:\n",
    "            if startingPoint - m < 0:\n",
    "                startingPoint -= m\n",
    "                break\n",
    "            if s <= startingPoint - m:\n",
    "                startingPoint = s\n",
    "                paint += 1\n",
    "                break\n",
    "    return paint"
   ]
  },
  {
   "attachments": {},
   "cell_type": "markdown",
   "metadata": {},
   "source": [
    "# 2nd try: 시간 초과: 96점\n",
    "- 탐색하는 범위를 idx를 통해 줄임"
   ]
  },
  {
   "cell_type": "code",
   "execution_count": 3,
   "metadata": {},
   "outputs": [],
   "source": [
    "def solution(n, m, section):\n",
    "    paint = 1\n",
    "    startingPoint = section[-1]\n",
    "    idx = n-1\n",
    "    while startingPoint - m >= section[0]:\n",
    "        # 나머지 페인트칠해야 하는 section의 원소값들 중 최댓값\n",
    "        for s in section[idx::-1]:\n",
    "            if startingPoint - m < 0:\n",
    "                startingPoint -= m\n",
    "                break\n",
    "            if s <= startingPoint - m:\n",
    "                startingPoint = s\n",
    "                paint += 1\n",
    "                idx = section.index(s)\n",
    "                break\n",
    "    return paint"
   ]
  },
  {
   "attachments": {},
   "cell_type": "markdown",
   "metadata": {},
   "source": [
    "# 3rd try: 성공\n",
    "- 시간 초과의 원인이 매번 section을 반복해서 $O(n^2)$ 시간이 걸리기 때문이라고 생각했다.\n",
    "- section 리스트를 한번만 탐색해 $O(n)$ 시간 안에 문제를 풀자\n",
    "  - \"페인트칠하는 시작 지점보다 원소의 값이 작거나 같으면 그 원소부터 페인트칠 시작한다\"를 코드로 구현"
   ]
  },
  {
   "cell_type": "code",
   "execution_count": 4,
   "metadata": {},
   "outputs": [],
   "source": [
    "def solution(n, m, section):\n",
    "    paint = 0\n",
    "    startingPoint = section[-1]\n",
    "    for s in section[::-1]:\n",
    "        if s <= startingPoint:\n",
    "            paint += 1\n",
    "            startingPoint = s - m\n",
    "    return paint"
   ]
  },
  {
   "cell_type": "code",
   "execution_count": 5,
   "metadata": {},
   "outputs": [
    {
     "data": {
      "text/plain": [
       "2"
      ]
     },
     "execution_count": 5,
     "metadata": {},
     "output_type": "execute_result"
    }
   ],
   "source": [
    "solution(8, 4,\t[2, 3, 6])"
   ]
  },
  {
   "cell_type": "code",
   "execution_count": 7,
   "metadata": {},
   "outputs": [
    {
     "data": {
      "text/plain": [
       "1"
      ]
     },
     "execution_count": 7,
     "metadata": {},
     "output_type": "execute_result"
    }
   ],
   "source": [
    "solution(5,\t4,\t[1, 3])"
   ]
  },
  {
   "cell_type": "code",
   "execution_count": 8,
   "metadata": {},
   "outputs": [
    {
     "data": {
      "text/plain": [
       "4"
      ]
     },
     "execution_count": 8,
     "metadata": {},
     "output_type": "execute_result"
    }
   ],
   "source": [
    "solution(4,\t1,\t[1, 2, 3, 4])"
   ]
  }
 ],
 "metadata": {
  "kernelspec": {
   "display_name": "base",
   "language": "python",
   "name": "python3"
  },
  "language_info": {
   "codemirror_mode": {
    "name": "ipython",
    "version": 3
   },
   "file_extension": ".py",
   "mimetype": "text/x-python",
   "name": "python",
   "nbconvert_exporter": "python",
   "pygments_lexer": "ipython3",
   "version": "3.9.7"
  },
  "orig_nbformat": 4
 },
 "nbformat": 4,
 "nbformat_minor": 2
}
