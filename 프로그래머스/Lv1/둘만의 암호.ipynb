{
 "cells": [
  {
   "attachments": {},
   "cell_type": "markdown",
   "metadata": {},
   "source": [
    "# 1st try"
   ]
  },
  {
   "cell_type": "code",
   "execution_count": 43,
   "metadata": {},
   "outputs": [],
   "source": [
    "def solution(s, skip, index):\n",
    "    answer = ''\n",
    "    s = alphaToNum(s)\n",
    "    skip = alphaToNum(skip)\n",
    "    print(f's: {s}, skip: {skip}')\n",
    "    \n",
    "    for i in s:\n",
    "        j = 0\n",
    "        while j != index:\n",
    "            # skip 안에 있으면 넘겼다고 간주 안하기 때문에 j를 더하지 않는다.\n",
    "            if i+1 in skip:\n",
    "                i += 1\n",
    "            else:\n",
    "                i += 1\n",
    "                j += 1\n",
    "        answer += numToAlpha(i)       \n",
    "    return answer\n",
    "\n",
    "def alphaToNum(string):\n",
    "    alphaList = []\n",
    "    for s in string:\n",
    "        alpha = ord(s)\n",
    "        alphaList.append(alpha)\n",
    "    return alphaList\n",
    "\n",
    "def numToAlpha(integer):\n",
    "    if integer <= 122:\n",
    "        alphabet = chr(integer)\n",
    "    # 알파벳 z를 넘어가는 경우 a부터 시작\n",
    "    else:\n",
    "        # 알파벳 z는 122, a는 97\n",
    "        # z+1 = 97이 되기 위해선 123-97=26을 빼야 한다.\n",
    "        integer -= 26\n",
    "        alphabet = chr(integer)\n",
    "    return alphabet\n",
    "          \n",
    "\n"
   ]
  },
  {
   "cell_type": "code",
   "execution_count": 33,
   "metadata": {},
   "outputs": [
    {
     "name": "stdout",
     "output_type": "stream",
     "text": [
      "97\n",
      "122\n"
     ]
    }
   ],
   "source": [
    "print(ord('a'))\n",
    "print(ord('z'))"
   ]
  },
  {
   "cell_type": "code",
   "execution_count": 42,
   "metadata": {},
   "outputs": [
    {
     "name": "stdout",
     "output_type": "stream",
     "text": [
      "s: [97, 117, 107, 107, 115], skip: [119, 98, 113, 100]\n"
     ]
    },
    {
     "data": {
      "text/plain": [
       "'happy'"
      ]
     },
     "execution_count": 42,
     "metadata": {},
     "output_type": "execute_result"
    }
   ],
   "source": [
    "solution(\"aukks\", \"wbqd\", 5)"
   ]
  },
  {
   "attachments": {},
   "cell_type": "markdown",
   "metadata": {},
   "source": [
    "# 2nd try\n",
    "- 틀린 이유: 마지막에 숫자를 알파벳으로 변환하면 skip 포함 유무를 확인할 수 없기 때문\n",
    "- 해결 방법: z를 넘어가는 순간 바로 a로 변환하여 skip 포함 유무 확인할 수 있도록 코드 수정"
   ]
  },
  {
   "cell_type": "code",
   "execution_count": 50,
   "metadata": {},
   "outputs": [],
   "source": [
    "def solution(s, skip, index):\n",
    "    answer = ''\n",
    "    s = alphaToNum(s)\n",
    "    skip = alphaToNum(skip)\n",
    "    \n",
    "    for i in s:\n",
    "        j = 0\n",
    "        while j != index:\n",
    "            # 알파벳 z를 넘어가는 경우 a부터 시작\n",
    "            if i == 123:\n",
    "                i -= 26\n",
    "            # skip 안에 있으면 넘겼다고 간주 안하기 때문에 j를 더하지 않는다\n",
    "            if i+1 in skip:\n",
    "                i += 1\n",
    "            else:\n",
    "                i += 1\n",
    "                j += 1\n",
    "        answer += chr(i)       \n",
    "    return answer\n",
    "\n",
    "def alphaToNum(string):\n",
    "    alphaList = []\n",
    "    for s in string:\n",
    "        alpha = ord(s)\n",
    "        alphaList.append(alpha)\n",
    "    return alphaList"
   ]
  },
  {
   "cell_type": "code",
   "execution_count": 52,
   "metadata": {},
   "outputs": [
    {
     "data": {
      "text/plain": [
       "'happy'"
      ]
     },
     "execution_count": 52,
     "metadata": {},
     "output_type": "execute_result"
    }
   ],
   "source": [
    "solution(\"aukks\", \"wbqd\", 5)"
   ]
  }
 ],
 "metadata": {
  "kernelspec": {
   "display_name": "base",
   "language": "python",
   "name": "python3"
  },
  "language_info": {
   "codemirror_mode": {
    "name": "ipython",
    "version": 3
   },
   "file_extension": ".py",
   "mimetype": "text/x-python",
   "name": "python",
   "nbconvert_exporter": "python",
   "pygments_lexer": "ipython3",
   "version": "3.9.7"
  },
  "orig_nbformat": 4
 },
 "nbformat": 4,
 "nbformat_minor": 2
}
