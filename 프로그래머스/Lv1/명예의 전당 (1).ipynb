{
 "cells": [
  {
   "cell_type": "code",
   "execution_count": 1,
   "metadata": {},
   "outputs": [],
   "source": [
    "def solution(k, scores):\n",
    "    answer = []\n",
    "    honorList = []\n",
    "\n",
    "\n",
    "    for score in scores:\n",
    "        if len(honorList) < k:\n",
    "            honorList.append(score)\n",
    "        else:\n",
    "            if score > min(honorList):\n",
    "                honorList.append(score)\n",
    "                honorList.remove(min(honorList))\n",
    "        answer.append(min(honorList))\n",
    "\n",
    "    return answer"
   ]
  },
  {
   "cell_type": "code",
   "execution_count": 2,
   "metadata": {},
   "outputs": [
    {
     "data": {
      "text/plain": [
       "[10, 10, 10, 20, 20, 100, 100]"
      ]
     },
     "execution_count": 2,
     "metadata": {},
     "output_type": "execute_result"
    }
   ],
   "source": [
    "solution(3, [10, 100, 20, 150, 1, 100, 200])"
   ]
  },
  {
   "attachments": {},
   "cell_type": "markdown",
   "metadata": {},
   "source": [
    "# 추가 풀이: priority queue\n",
    "- 우선순위 큐는 가장 작은 원소를 return하기 때문에 이 문제에 적합하다.\n",
    "- 파이썬의 리스트의 경우 삽입 $O(1)$, min $O(n)$, 가장 마지막 원소제거가 아닌 특정 원소 값으로 제거에 $O(n)$의 시간 복잡도를 가진다.\n",
    "- 하지만, 정렬 $O(nlogn)$, 마지막 원소 삭제인 pop에 $O(1)$ 시간 복잡도를 자기므로 min을 사용하는 대신 reverse=True로 정렬을 하는 것이 더 좋은 풀이방식이었을 것 같다는 생각이 든다.\n",
    "   \n",
    "\n",
    "- 그에 반해 우선순위 큐를 활용하면 삽입$O(logn)$ 가장 작은 원소 반환 get()에 $O(logn)$ 시간 복잡도를 가진다.\n",
    "- 그렇기 때문에 때문에 이 문제에서는 비록 3 ≤ k ≤ 100였지만 정렬해야할 데이터의 크기 k가 컸다면,   \n",
    "우선순위 큐를 활용하는 것이 훨씬 더 좋은 성능을 보였을 것이다.\n",
    "   \n",
    "- 시간복잡도를 요약하자면\n",
    "  1. 리스트 min, remove를 이용한 풀이 방식: $O(n)$\n",
    "  2. 리스트 sort와 pop을 이용한 풀이 방식: $O(nlogn)$\n",
    "  3. 우선순위 큐를 이용한 풀이 방식: $O(logn)$   \n",
    "  이므로 1 -> 2 -> 3으로 갈수록 더 좋은 시간복잡도를 가지는 풀이 방법이다.\n",
    "\n",
    "- 따라서, 3번 방식으로 문제를 다시 풀어보면 다음과 같다.\n",
    "  "
   ]
  },
  {
   "cell_type": "code",
   "execution_count": 3,
   "metadata": {},
   "outputs": [],
   "source": [
    "from queue import PriorityQueue\n",
    "\n",
    "def solution(k, scores):\n",
    "    answer = []\n",
    "    q = PriorityQueue()\n",
    "    \n",
    "    for score in scores:\n",
    "        if q.qsize() < k:\n",
    "            q.put(score)\n",
    "        else:\n",
    "            if score > last:\n",
    "                q.put(score)\n",
    "                q.get()\n",
    "        last = q.get()\n",
    "        q.put(last)\n",
    "        answer.append(last)\n",
    "    return answer"
   ]
  },
  {
   "cell_type": "code",
   "execution_count": 4,
   "metadata": {},
   "outputs": [
    {
     "data": {
      "text/plain": [
       "[10, 10, 10, 20, 20, 100, 100]"
      ]
     },
     "execution_count": 4,
     "metadata": {},
     "output_type": "execute_result"
    }
   ],
   "source": [
    "solution(3, [10, 100, 20, 150, 1, 100, 200])"
   ]
  }
 ],
 "metadata": {
  "kernelspec": {
   "display_name": "base",
   "language": "python",
   "name": "python3"
  },
  "language_info": {
   "codemirror_mode": {
    "name": "ipython",
    "version": 3
   },
   "file_extension": ".py",
   "mimetype": "text/x-python",
   "name": "python",
   "nbconvert_exporter": "python",
   "pygments_lexer": "ipython3",
   "version": "3.9.7"
  },
  "orig_nbformat": 4
 },
 "nbformat": 4,
 "nbformat_minor": 2
}
