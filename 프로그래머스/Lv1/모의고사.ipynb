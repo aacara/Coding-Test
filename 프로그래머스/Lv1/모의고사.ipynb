{
 "cells": [
  {
   "cell_type": "code",
   "execution_count": 7,
   "metadata": {},
   "outputs": [],
   "source": [
    "def solution(answers):\n",
    "    answer = []\n",
    "    score1, score2, score3 = 0, 0, 0\n",
    "    answer1 = [1,2,3,4,5] * 2000\n",
    "    answer2 = [2,1,2,3,2,4,2,5] * 1250\n",
    "    answer3 = [3,3,1,1,2,2,4,4,5,5] * 1000\n",
    "    \n",
    "    for i in range(len(answers)):\n",
    "        if answers[i] == answer1[i]:\n",
    "            score1 += 1\n",
    "        if answers[i] == answer2[i]:\n",
    "            score2 += 1\n",
    "        if answers[i] == answer3[i]:\n",
    "            score3 += 1\n",
    "            \n",
    "    scoreList = [score1, score2, score3]\n",
    "    maxScore = max(scoreList)\n",
    "    \n",
    "    for i, score in enumerate(scoreList):\n",
    "        if score == maxScore:\n",
    "            answer.append(i+1)\n",
    "            \n",
    "    return answer"
   ]
  },
  {
   "cell_type": "code",
   "execution_count": 8,
   "metadata": {},
   "outputs": [
    {
     "data": {
      "text/plain": [
       "[1]"
      ]
     },
     "execution_count": 8,
     "metadata": {},
     "output_type": "execute_result"
    }
   ],
   "source": [
    "solution([1,2,3,4,5]\t)"
   ]
  },
  {
   "cell_type": "code",
   "execution_count": 9,
   "metadata": {},
   "outputs": [
    {
     "data": {
      "text/plain": [
       "[1, 2, 3]"
      ]
     },
     "execution_count": 9,
     "metadata": {},
     "output_type": "execute_result"
    }
   ],
   "source": [
    "solution([1,3,2,4,2]\t)"
   ]
  }
 ],
 "metadata": {
  "kernelspec": {
   "display_name": "base",
   "language": "python",
   "name": "python3"
  },
  "language_info": {
   "codemirror_mode": {
    "name": "ipython",
    "version": 3
   },
   "file_extension": ".py",
   "mimetype": "text/x-python",
   "name": "python",
   "nbconvert_exporter": "python",
   "pygments_lexer": "ipython3",
   "version": "3.9.7"
  },
  "orig_nbformat": 4
 },
 "nbformat": 4,
 "nbformat_minor": 2
}
