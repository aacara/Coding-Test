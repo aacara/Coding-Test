{
 "cells": [
  {
   "attachments": {},
   "cell_type": "markdown",
   "metadata": {},
   "source": [
    "# 1st try: 실패: 시간 초과\n",
    "- 테스트 케이스 7,8,9,10을 실패하며 60점\n",
    "- 시간 초과 원인: for문을 2번 돌며 $O(n^2)$ 시간이 걸림\n",
    "- 해결 방안: 범위 설정을 통해 for문을 하나로 줄여서 $O(n)$ 시간에 풀 수 있도록 접근   \n",
    "for문 하나로 줄이기 위해선, x축을 기준으로 하고 y값의 범위는 피타고라스의 정리로 구함"
   ]
  },
  {
   "cell_type": "code",
   "execution_count": 3,
   "metadata": {},
   "outputs": [],
   "source": [
    "def solution(r1, r2):\n",
    "    answer = 0\n",
    "    # 1사분면에 대해서만 생각한 후, 4배 곱해주기\n",
    "    for x in range(1, r2):\n",
    "        for y in range(1, r2):\n",
    "            diagonal = (x**2 + y**2)**0.5\n",
    "            if r1 <= diagonal and diagonal <= r2 :\n",
    "                answer += 1\n",
    "    # 마찬가지로 양의 x축에 대해서만 생각한 후, 4배 곱해주기\n",
    "    answer += r2 - r1 + 1\n",
    "    # 대칭이므로 4배곱해주기\n",
    "    answer *= 4\n",
    "    return answer\n"
   ]
  },
  {
   "cell_type": "code",
   "execution_count": 4,
   "metadata": {},
   "outputs": [
    {
     "data": {
      "text/plain": [
       "20"
      ]
     },
     "execution_count": 4,
     "metadata": {},
     "output_type": "execute_result"
    }
   ],
   "source": [
    "solution(2,3)"
   ]
  },
  {
   "attachments": {},
   "cell_type": "markdown",
   "metadata": {},
   "source": [
    "# 2nd try: 성공\n",
    "- y값의 범위는 피타고라스로!\n",
    "- 다만, x의 범위가 r1을 넘어가면 int((r1**2-x**2-1)**0.5)가 음수가 되기 때문에 r1을 기점으로 범위를 나눈다."
   ]
  },
  {
   "cell_type": "code",
   "execution_count": 7,
   "metadata": {},
   "outputs": [],
   "source": [
    "def solution(r1, r2):\n",
    "    answer = 0\n",
    "    # 1사분면에 대해서만 생각한 후, 4배 곱해주기\n",
    "    for x in range(0, r1):\n",
    "        answer += int((r2**2-x**2)**0.5) - int((r1**2-x**2-1)**0.5) \n",
    "    for x in range(r1, r2):\n",
    "        answer += int((r2**2-x**2)**0.5)\n",
    "    # 대칭이므로 4배곱해주기\n",
    "    answer *= 4\n",
    "    return answer\n",
    "        "
   ]
  },
  {
   "cell_type": "code",
   "execution_count": 8,
   "metadata": {},
   "outputs": [
    {
     "data": {
      "text/plain": [
       "24"
      ]
     },
     "execution_count": 8,
     "metadata": {},
     "output_type": "execute_result"
    }
   ],
   "source": [
    "solution(3,4)"
   ]
  },
  {
   "cell_type": "code",
   "execution_count": 9,
   "metadata": {},
   "outputs": [
    {
     "data": {
      "text/plain": [
       "20"
      ]
     },
     "execution_count": 9,
     "metadata": {},
     "output_type": "execute_result"
    }
   ],
   "source": [
    "solution(2,3)"
   ]
  }
 ],
 "metadata": {
  "kernelspec": {
   "display_name": "base",
   "language": "python",
   "name": "python3"
  },
  "language_info": {
   "codemirror_mode": {
    "name": "ipython",
    "version": 3
   },
   "file_extension": ".py",
   "mimetype": "text/x-python",
   "name": "python",
   "nbconvert_exporter": "python",
   "pygments_lexer": "ipython3",
   "version": "3.9.7"
  },
  "orig_nbformat": 4
 },
 "nbformat": 4,
 "nbformat_minor": 2
}
