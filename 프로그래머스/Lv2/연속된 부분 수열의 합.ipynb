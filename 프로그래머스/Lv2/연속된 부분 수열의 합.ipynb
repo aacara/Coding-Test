{
 "cells": [
  {
   "attachments": {},
   "cell_type": "markdown",
   "metadata": {},
   "source": [
    "# 1st try: 시간 초과로 실패\n",
    "- 문제 원인: 시간 복잡도가 가장 큰 부분은 for문 2개를 돌면서 $O(n^2)$ 시간이 걸림"
   ]
  },
  {
   "cell_type": "code",
   "execution_count": 1,
   "metadata": {},
   "outputs": [],
   "source": [
    "def solution(sequence, k):\n",
    "    answer = []\n",
    "    pairs = []\n",
    "    len = []\n",
    "    for i, start in enumerate(sequence):\n",
    "        sum = 0\n",
    "        while sum < k:\n",
    "            for j, end in enumerate(sequence[i:]):\n",
    "                sum += end\n",
    "                if sum >= k:\n",
    "                    break\n",
    "            if sum == k:\n",
    "                pairs.append([i, j+i])\n",
    "            else:\n",
    "                break\n",
    "\n",
    "    for i, pair in enumerate(pairs):\n",
    "        len.append(pair[1] - pair[0])\n",
    "\n",
    "    minVal = min(len)\n",
    "    # 가장 차이가 적은 값의 index\n",
    "    idx = len.index(minVal)\n",
    "\n",
    "    return pairs[idx]\n",
    "\n",
    "\n",
    "\n",
    "\n",
    "\n",
    "            "
   ]
  },
  {
   "cell_type": "code",
   "execution_count": 2,
   "metadata": {},
   "outputs": [
    {
     "data": {
      "text/plain": [
       "[0, 2]"
      ]
     },
     "execution_count": 2,
     "metadata": {},
     "output_type": "execute_result"
    }
   ],
   "source": [
    "solution([2, 2, 2, 2, 2], 6)"
   ]
  },
  {
   "cell_type": "code",
   "execution_count": 3,
   "metadata": {},
   "outputs": [
    {
     "data": {
      "text/plain": [
       "[2, 3]"
      ]
     },
     "execution_count": 3,
     "metadata": {},
     "output_type": "execute_result"
    }
   ],
   "source": [
    "solution([1, 2, 3, 4, 5], 7)"
   ]
  },
  {
   "cell_type": "code",
   "execution_count": 4,
   "metadata": {},
   "outputs": [
    {
     "data": {
      "text/plain": [
       "[6, 6]"
      ]
     },
     "execution_count": 4,
     "metadata": {},
     "output_type": "execute_result"
    }
   ],
   "source": [
    "solution([1, 1, 1, 2, 3, 4, 5], 5)"
   ]
  },
  {
   "attachments": {},
   "cell_type": "markdown",
   "metadata": {},
   "source": [
    "# 2nd try: 실패\n",
    "- 실패 원인: len이라는 새로운 리스트 build하는 대신, pairs를 sorting해서 코드의 가독성이 좋아졌지만, 시간 복잡도를 개선하지 않았으므로 실패\n",
    "- 문제 해결: 가독성..?"
   ]
  },
  {
   "cell_type": "code",
   "execution_count": 5,
   "metadata": {},
   "outputs": [],
   "source": [
    "def solution(sequence, k):\n",
    "    pairs = []\n",
    "\n",
    "    for i, start in enumerate(sequence):\n",
    "        sum = 0\n",
    "        while sum < k:\n",
    "            for j, end in enumerate(sequence[i:]):\n",
    "                sum += end\n",
    "                if sum >= k:\n",
    "                    break\n",
    "            if sum == k:\n",
    "                pairs.append([i, j+i])\n",
    "            else:\n",
    "                break\n",
    "\n",
    "    pairs.sort(key = lambda x: x[1] - x[0])\n",
    "\n",
    "    return pairs[0]"
   ]
  },
  {
   "cell_type": "code",
   "execution_count": 6,
   "metadata": {},
   "outputs": [
    {
     "data": {
      "text/plain": [
       "[2, 3]"
      ]
     },
     "execution_count": 6,
     "metadata": {},
     "output_type": "execute_result"
    }
   ],
   "source": [
    "solution([1, 2, 3, 4, 5], 7)"
   ]
  },
  {
   "cell_type": "code",
   "execution_count": 7,
   "metadata": {},
   "outputs": [
    {
     "data": {
      "text/plain": [
       "[0, 2]"
      ]
     },
     "execution_count": 7,
     "metadata": {},
     "output_type": "execute_result"
    }
   ],
   "source": [
    "solution([2, 2, 2, 2, 2], 6)"
   ]
  },
  {
   "cell_type": "code",
   "execution_count": 8,
   "metadata": {},
   "outputs": [
    {
     "data": {
      "text/plain": [
       "[6, 6]"
      ]
     },
     "execution_count": 8,
     "metadata": {},
     "output_type": "execute_result"
    }
   ],
   "source": [
    "solution([1, 1, 1, 2, 3, 4, 5], 5)"
   ]
  },
  {
   "attachments": {},
   "cell_type": "markdown",
   "metadata": {},
   "source": [
    "# 3rd try: 실패\n",
    "- 실패 원인: 근본적인 문제였던 $O(n^2)$ 시간 복잡도를 해결하자.\n",
    "- 문제 해결: for문을 2개 돌면서 모든 경우의 수를 확인하는 대신 `투 포인터`를 사용해서 $O(n)$ 시간 복잡도를 구현하자."
   ]
  },
  {
   "cell_type": "code",
   "execution_count": 9,
   "metadata": {},
   "outputs": [],
   "source": [
    "def solution(sequence, k):\n",
    "    answer = []\n",
    "    length = len(sequence)\n",
    "    start, end = 0, 0\n",
    "    sum = sequence[0] \n",
    "\n",
    "    while True:\n",
    "        if sum == k:\n",
    "            answer. append([start, end])\n",
    "            start += 1\n",
    "            end = start \n",
    "            if end > length-1:\n",
    "                break\n",
    "            sum = sequence[start] \n",
    "                \n",
    "        elif sum < k:\n",
    "            end += 1\n",
    "            if end > length-1:\n",
    "                break\n",
    "            sum += sequence[end]\n",
    "        else: #sum > k:\n",
    "            start += 1\n",
    "            sum -= sequence[start-1]\n",
    "        # print(f'start:{start}, end:{end}, sum:{sum},answer:{answer}')\n",
    "    answer.sort(key=lambda x: (x[1]-x[0], x[0]))\n",
    "    \n",
    "    return answer[0] "
   ]
  },
  {
   "cell_type": "code",
   "execution_count": 10,
   "metadata": {},
   "outputs": [
    {
     "data": {
      "text/plain": [
       "[2, 3]"
      ]
     },
     "execution_count": 10,
     "metadata": {},
     "output_type": "execute_result"
    }
   ],
   "source": [
    "solution([1, 2, 3, 4, 5], 7)"
   ]
  },
  {
   "cell_type": "code",
   "execution_count": 11,
   "metadata": {},
   "outputs": [
    {
     "data": {
      "text/plain": [
       "[6, 6]"
      ]
     },
     "execution_count": 11,
     "metadata": {},
     "output_type": "execute_result"
    }
   ],
   "source": [
    "solution([1, 1, 1, 2, 3, 4, 5], 5)"
   ]
  },
  {
   "cell_type": "code",
   "execution_count": 12,
   "metadata": {},
   "outputs": [
    {
     "data": {
      "text/plain": [
       "[0, 2]"
      ]
     },
     "execution_count": 12,
     "metadata": {},
     "output_type": "execute_result"
    }
   ],
   "source": [
    "solution([2, 2, 2, 2, 2], 6)"
   ]
  },
  {
   "attachments": {},
   "cell_type": "markdown",
   "metadata": {},
   "source": [
    "# 4th try: 성공\n",
    "- 실패 원인: 합이 k일때 start의 위치를 이전 지점+1까지 되돌려서 추가적인 연산 시간이 너무 많이 발생한듯하다.\n",
    "- 문제 해결: 합이 k일때 start의 위치를 꼭 이전 지점+1까지 되돌리지 않고 필요한만큼만 돌려보자."
   ]
  },
  {
   "cell_type": "code",
   "execution_count": 13,
   "metadata": {},
   "outputs": [],
   "source": [
    "def solution(sequence, k):\n",
    "    answer = []\n",
    "    length = len(sequence)\n",
    "    start, end = 0, 0\n",
    "    sum = sequence[0] \n",
    "\n",
    "    while True:\n",
    "        if sum == k:\n",
    "            answer. append([start, end])\n",
    "            start += 1\n",
    "            sum -= sequence[start-1]\n",
    "        elif sum < k:\n",
    "            end += 1\n",
    "            if end > length-1:\n",
    "                break\n",
    "            sum += sequence[end]\n",
    "        else: #sum > k:\n",
    "            start += 1\n",
    "            sum -= sequence[start-1]\n",
    "        # print(f'start:{start}, end:{end}, sum:{sum},answer:{answer}')\n",
    "    answer.sort(key=lambda x: (x[1]-x[0], x[0]))\n",
    "    \n",
    "    return answer[0] "
   ]
  },
  {
   "cell_type": "code",
   "execution_count": 14,
   "metadata": {},
   "outputs": [
    {
     "data": {
      "text/plain": [
       "[2, 3]"
      ]
     },
     "execution_count": 14,
     "metadata": {},
     "output_type": "execute_result"
    }
   ],
   "source": [
    "solution([1, 2, 3, 4, 5], 7)"
   ]
  },
  {
   "cell_type": "code",
   "execution_count": 15,
   "metadata": {},
   "outputs": [
    {
     "data": {
      "text/plain": [
       "[6, 6]"
      ]
     },
     "execution_count": 15,
     "metadata": {},
     "output_type": "execute_result"
    }
   ],
   "source": [
    "solution([1, 1, 1, 2, 3, 4, 5], 5)"
   ]
  },
  {
   "cell_type": "code",
   "execution_count": 16,
   "metadata": {},
   "outputs": [
    {
     "data": {
      "text/plain": [
       "[0, 2]"
      ]
     },
     "execution_count": 16,
     "metadata": {},
     "output_type": "execute_result"
    }
   ],
   "source": [
    "solution([2, 2, 2, 2, 2], 6)"
   ]
  }
 ],
 "metadata": {
  "kernelspec": {
   "display_name": "base",
   "language": "python",
   "name": "python3"
  },
  "language_info": {
   "codemirror_mode": {
    "name": "ipython",
    "version": 3
   },
   "file_extension": ".py",
   "mimetype": "text/x-python",
   "name": "python",
   "nbconvert_exporter": "python",
   "pygments_lexer": "ipython3",
   "version": "3.9.7"
  },
  "orig_nbformat": 4
 },
 "nbformat": 4,
 "nbformat_minor": 2
}
