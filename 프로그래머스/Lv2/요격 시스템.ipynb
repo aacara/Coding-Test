{
 "cells": [
  {
   "cell_type": "code",
   "execution_count": 1,
   "metadata": {},
   "outputs": [],
   "source": [
    "def solution(targets):\n",
    "    answer = 1\n",
    "    targets.sort(key = lambda x: (x[0], x[1]))\n",
    "    min, max = targets[0]\n",
    "    for target in targets[1:]:\n",
    "        start, finish = target\n",
    "        # 겹치는 부분이 없을 때\n",
    "        if start >= max or finish <= min:\n",
    "            answer += 1\n",
    "            # target의 시작과 끝 점을 min, max로 설정\n",
    "            min, max = start, finish\n",
    "        # 겹치는 부분이 있을 때\n",
    "        else:\n",
    "            # 교집합 부분을 min, max로 설정\n",
    "            if start > min:\n",
    "                min = start\n",
    "            if finish < max:\n",
    "                max = finish\n",
    "        \n",
    "    return answer"
   ]
  },
  {
   "cell_type": "code",
   "execution_count": 2,
   "metadata": {},
   "outputs": [
    {
     "data": {
      "text/plain": [
       "3"
      ]
     },
     "execution_count": 2,
     "metadata": {},
     "output_type": "execute_result"
    }
   ],
   "source": [
    "solution([[4,5],[4,8],[10,14],[11,13],[5,12],[3,7],[1,4]]\t)"
   ]
  }
 ],
 "metadata": {
  "kernelspec": {
   "display_name": "base",
   "language": "python",
   "name": "python3"
  },
  "language_info": {
   "codemirror_mode": {
    "name": "ipython",
    "version": 3
   },
   "file_extension": ".py",
   "mimetype": "text/x-python",
   "name": "python",
   "nbconvert_exporter": "python",
   "pygments_lexer": "ipython3",
   "version": "3.9.7"
  },
  "orig_nbformat": 4
 },
 "nbformat": 4,
 "nbformat_minor": 2
}
